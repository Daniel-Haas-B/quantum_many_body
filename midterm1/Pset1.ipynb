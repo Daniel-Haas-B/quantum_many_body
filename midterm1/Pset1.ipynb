{
 "cells": [
  {
   "cell_type": "code",
   "execution_count": 325,
   "metadata": {},
   "outputs": [],
   "source": [
    "import itertools\n",
    "\n",
    "import numpy as np\n",
    "import pandas as pd\n",
    "\n",
    "from operator import itemgetter\n",
    "from decimal import Decimal\n"
   ]
  },
  {
   "cell_type": "markdown",
   "metadata": {},
   "source": [
    "## General functions"
   ]
  },
  {
   "cell_type": "code",
   "execution_count": 326,
   "metadata": {},
   "outputs": [],
   "source": [
    "def clean_integrals(Z, file_name):\n",
    "\n",
    "    df = pd.read_csv(file_name, header=None)\n",
    "    integrals_dict = {}\n",
    "\n",
    "    for row in df.iterrows():\n",
    "\n",
    "        key, val = row[1][0].split('=')\n",
    "\n",
    "        key = key.replace('<', '')\n",
    "        key = key.replace('>', '')\n",
    "        key = key.replace('|V|', '')\n",
    "        key = key.replace(' ', '')\n",
    "\n",
    "        val = val.replace('[', '(')\n",
    "        val = val.replace(']', ')')\n",
    "        val = val.replace('Sqrt', 'np.sqrt')\n",
    "        integrals_dict.update({f'{key}': eval(val)})\n",
    "\n",
    "    return integrals_dict"
   ]
  },
  {
   "cell_type": "code",
   "execution_count": 327,
   "metadata": {},
   "outputs": [],
   "source": [
    "hole_states = ['1+', '1-']\n",
    "particle_states = ['2+', '2-', '3+', '3-']\n",
    "\n",
    "def matrix_config(hole_states, particle_states):\n",
    "    excitations = list(itertools.product(hole_states, particle_states))\n",
    "    excitations = [list(x) for x in excitations if x[0][1]==x[1][1]]  ## removing non-zero-spin excitations\n",
    "    excitations = sorted(excitations, key=itemgetter(1)) ## sorting by particle state\n",
    "\n",
    "    bra = ket = [['0','0']] + excitations  ## ground state and excitations\n",
    "\n",
    "    elements = list(itertools.product(bra, ket))\n",
    "    elements = [list(element) for element in elements]\n",
    "\n",
    "    matrix = np.zeros((5,5), dtype = object)        ## doing this because numpy reshape is acting weird\n",
    "    row = 0\n",
    "    for i, element in enumerate(elements):\n",
    "        col = i % 5\n",
    "        matrix[row, col] = element\n",
    "        if col == 4 and i != 0:\n",
    "            row += 1\n",
    "\n",
    "    return matrix"
   ]
  },
  {
   "cell_type": "code",
   "execution_count": 328,
   "metadata": {},
   "outputs": [],
   "source": [
    "def h0_term(alpha, beta, Z):\n",
    "    if not alpha == beta:\n",
    "        return 0\n",
    "\n",
    "    n = int(alpha[0])\n",
    " \n",
    "    return -(Z**2)/(2*n**2)\n",
    "\n",
    "def v_term(alpha, beta, gamma, delta, integrals, antisym = True):\n",
    "\n",
    "    alpha_n, alpha_spin = alpha[0], alpha[-1]\n",
    "    beta_n, beta_spin = beta[0], beta[-1]\n",
    "    gamma_n, gamma_spin = gamma[0], gamma[-1]\n",
    "    delta_n, delta_spin = delta[0], delta[-1]\n",
    "\n",
    "    direct_term = integrals[alpha_n+beta_n+gamma_n+delta_n]\n",
    "    exchange_term = integrals[alpha_n+beta_n+delta_n+gamma_n]\n",
    "\n",
    "    if alpha_spin != gamma_spin or beta_spin != delta_spin:\n",
    "        direct_term = 0\n",
    "\n",
    "    if alpha_spin != delta_spin or beta_spin != gamma_spin:\n",
    "        exchange_term = 0\n",
    "\n",
    "    if not antisym:\n",
    "        return direct_term\n",
    "\n",
    "    return direct_term - exchange_term\n",
    "\n",
    "def below_fermi(fermi_level):\n",
    "    n = [str(n) for n in range(1, fermi_level + 1)] \n",
    "    spin = [\"+\", \"-\"] \n",
    "    return  list(itertools.product(n, spin))\n",
    "\n",
    "\n",
    "def zp_zh(Z, fermi_level, integrals): ## this is the E_0 ref\n",
    "    cumul_h0 = 0\n",
    "    cumul_v = 0\n",
    "\n",
    "    states_below_fermi = below_fermi(fermi_level)\n",
    "\n",
    "    #cumul_h0\n",
    "    for i in states_below_fermi:\n",
    "        cumul_h0 += h0_term(i, i, Z)\n",
    "\n",
    "    #cumul_v\n",
    "    for i in states_below_fermi:\n",
    "        for j in states_below_fermi:\n",
    "            cumul_v += v_term(i, j, i, j, integrals)\n",
    "\n",
    "    return cumul_h0 + (1/2)*cumul_v\n",
    "\n",
    "def onep_oneh(Z, fermi_level, a, i, b, j, integrals):\n",
    "    cumul_h0 = 0\n",
    "    cumul_v = 0\n",
    "    states_below_fermi = below_fermi(fermi_level)\n",
    "\n",
    "    if a==b and i==j and a[0]!= '0' :   ## diagonal\n",
    "        cumul_h0 += h0_term(a, a, Z)\n",
    "        for j in states_below_fermi:\n",
    "            cumul_v += v_term(a, j, a, j, integrals)\n",
    "\n",
    "        cumul_h0 += - h0_term(i, i, Z)\n",
    "        for j in states_below_fermi:\n",
    "            cumul_v += - v_term(i, j, i, j, integrals)\n",
    "\n",
    "        return cumul_h0 + cumul_v + zp_zh(Z, fermi_level, integrals) ## this last term is E_0 ref\n",
    "    \n",
    "    # from core to excitation\n",
    "    elif (a[0]==i[0]=='0') or (b[0]==j[0]=='0'): ## notice that the case where all are equal to zero will not happend because it is not passed to 1p1h\n",
    "\n",
    "        if (b[0]=='0'): # than we change. we can do this because the matrix is symetric\n",
    "            b, j = a, i\n",
    "        for i in states_below_fermi:\n",
    "            cumul_v +=  v_term(j, i, b, i, integrals) \n",
    "\n",
    "        return cumul_v\n",
    "\n",
    "    else:\n",
    "        return v_term(a, j, i, b, integrals) "
   ]
  },
  {
   "cell_type": "code",
   "execution_count": 329,
   "metadata": {},
   "outputs": [],
   "source": [
    "def jacobi(A, eps=1e-15, maxiter=10000):\n",
    "    \"\"\"\n",
    "    Jacobi method for diagonalising a symmetric matrix A\n",
    "    \"\"\"\n",
    "    n = A.shape[0]\n",
    "    V = np.eye(n)\n",
    "    for i in range(maxiter):\n",
    "        # find the largest off-diagonal element\n",
    "        maxval = 0\n",
    "        for j in range(n):\n",
    "            for k in range(j+1, n):\n",
    "                if abs(A[j,k]) > maxval:\n",
    "                    maxval = abs(A[j,k])\n",
    "                    p = j # row index\n",
    "                    q = k # column index\n",
    "        if maxval < eps:\n",
    "            break\n",
    "        # rotate the matrix\n",
    "        theta = 0.5 * np.arctan2(2*A[p,q], A[p,p]-A[q,q]) # rotation angle\n",
    "        c = np.cos(theta)\n",
    "        s = np.sin(theta)\n",
    "        R = np.eye(n)\n",
    "        R[p,p] = c\n",
    "        R[p,q] = -s\n",
    "        R[q,p] = s\n",
    "        R[q,q] = c\n",
    "        A = R.T @ A @ R # matrix rotation\n",
    "        V = V @ R \n",
    "    return A, V # diagonalised matrix and eigenvectors"
   ]
  },
  {
   "cell_type": "code",
   "execution_count": 330,
   "metadata": {},
   "outputs": [],
   "source": [
    "def matrix_parser(matrix, dimension):\n",
    "    strin = ''\n",
    "    for i in range(0, dimension):\n",
    "        for j in range(0, dimension):\n",
    "            strin += f\"{matrix[i, j]: 6.3f} \"\n",
    "\n",
    "        strin += '\\n'\n",
    "\n",
    "    print(strin)"
   ]
  },
  {
   "cell_type": "markdown",
   "metadata": {},
   "source": [
    "## Configuration Interaction"
   ]
  },
  {
   "cell_type": "markdown",
   "metadata": {},
   "source": [
    "### Helium"
   ]
  },
  {
   "cell_type": "code",
   "execution_count": 331,
   "metadata": {},
   "outputs": [],
   "source": [
    "Z = 2\n",
    "fermi_level = 1\n",
    "hole_states = ['1+', '1-']\n",
    "particle_states = ['2+', '2-', '3+', '3-']"
   ]
  },
  {
   "cell_type": "code",
   "execution_count": 332,
   "metadata": {},
   "outputs": [],
   "source": [
    "integrals = clean_integrals(Z, 'integrals.csv')"
   ]
  },
  {
   "cell_type": "code",
   "execution_count": 333,
   "metadata": {},
   "outputs": [],
   "source": [
    "matrix = matrix_config(hole_states, particle_states)\n",
    "\n",
    "for row in range(0,5):\n",
    "    for col in range(0, 5):\n",
    "        i = matrix[row, col][0][0]\n",
    "        a = matrix[row, col][0][1] \n",
    "        j = matrix[row, col][1][0]\n",
    "        b = matrix[row, col][1][1]\n",
    "        if a == i == j == b== '0':    ## 0p0h 0p0h\n",
    "            matrix[row, col] = zp_zh(Z, fermi_level, integrals)\n",
    "\n",
    "        else:\n",
    "            matrix[row, col] = onep_oneh(Z, fermi_level, a, i, b, j, integrals)"
   ]
  },
  {
   "cell_type": "code",
   "execution_count": 334,
   "metadata": {},
   "outputs": [
    {
     "name": "stdout",
     "output_type": "stream",
     "text": [
      "-2.750  0.179  0.179  0.088  0.088 \n",
      " 0.179 -1.704  0.044 -0.079  0.022 \n",
      " 0.179  0.044 -1.704  0.022 -0.079 \n",
      " 0.088 -0.079  0.022 -1.836  0.012 \n",
      " 0.088  0.022 -0.079  0.012 -1.836 \n",
      "\n"
     ]
    }
   ],
   "source": [
    "matrix_parser(matrix, 5)"
   ]
  },
  {
   "cell_type": "code",
   "execution_count": 335,
   "metadata": {},
   "outputs": [],
   "source": [
    "diag_matrix = jacobi(matrix)[0] ## matrix with eigenvalues"
   ]
  },
  {
   "cell_type": "code",
   "execution_count": 336,
   "metadata": {},
   "outputs": [
    {
     "name": "stdout",
     "output_type": "stream",
     "text": [
      "-1.601  0.000  0.000  0.000 -0.000 \n",
      "-0.000 -1.685 -0.000 -0.000 -0.000 \n",
      "-0.000  0.000 -1.810  0.000 -0.000 \n",
      "-0.000  0.000  0.000 -1.910 -0.000 \n",
      "-0.000  0.000  0.000  0.000 -2.824 \n",
      "\n"
     ]
    }
   ],
   "source": [
    "matrix_parser(diag_matrix, 5)"
   ]
  },
  {
   "cell_type": "markdown",
   "metadata": {},
   "source": [
    "### Beryllium"
   ]
  },
  {
   "cell_type": "code",
   "execution_count": 337,
   "metadata": {},
   "outputs": [],
   "source": [
    "Z = 4\n",
    "fermi_level = 2\n",
    "hole_states = ['1+', '1-', '2+', '2-']\n",
    "particle_states = ['3+', '3-']"
   ]
  },
  {
   "cell_type": "code",
   "execution_count": 338,
   "metadata": {},
   "outputs": [],
   "source": [
    "integrals = clean_integrals(Z, 'integrals.csv')"
   ]
  },
  {
   "cell_type": "code",
   "execution_count": 339,
   "metadata": {},
   "outputs": [],
   "source": [
    "matrix = matrix_config(hole_states, particle_states)\n",
    "\n",
    "for row in range(0,5):\n",
    "    for col in range(0, 5):\n",
    "        i = matrix[row, col][0][0]\n",
    "        a = matrix[row, col][0][1] \n",
    "        j = matrix[row, col][1][0]\n",
    "        b = matrix[row, col][1][1]\n",
    "        if a == i == j == b== '0':    ## <0p0h|0p0h>\n",
    "            matrix[row, col] = zp_zh(Z, fermi_level, integrals)\n",
    "\n",
    "        else:\n",
    "            matrix[row, col] = onep_oneh(Z, fermi_level, a, i, b, j, integrals)"
   ]
  },
  {
   "cell_type": "code",
   "execution_count": 340,
   "metadata": {},
   "outputs": [
    {
     "name": "stdout",
     "output_type": "stream",
     "text": [
      "-13.716  0.189  0.445  0.189  0.445 \n",
      " 0.189 -9.280 -0.001  0.023  0.008 \n",
      " 0.445 -0.001 -13.382  0.008  0.030 \n",
      " 0.189  0.023  0.008 -9.280 -0.001 \n",
      " 0.445  0.008  0.030 -0.001 -13.382 \n",
      "\n"
     ]
    }
   ],
   "source": [
    "matrix_parser(matrix, 5)"
   ]
  },
  {
   "cell_type": "code",
   "execution_count": 341,
   "metadata": {},
   "outputs": [],
   "source": [
    "diag_matrix = jacobi(matrix)[0] ## matrix with eigenvalues"
   ]
  },
  {
   "cell_type": "code",
   "execution_count": 342,
   "metadata": {},
   "outputs": [
    {
     "name": "stdout",
     "output_type": "stream",
     "text": [
      "-9.241  0.000 -0.000 -0.000 -0.000 \n",
      " 0.000 -9.303 -0.000  0.000  0.000 \n",
      " 0.000  0.000 -12.886 -0.000  0.000 \n",
      " 0.000  0.000  0.000 -13.412  0.000 \n",
      " 0.000  0.000  0.000  0.000 -14.198 \n",
      "\n"
     ]
    }
   ],
   "source": [
    "matrix_parser(diag_matrix, 5)"
   ]
  },
  {
   "cell_type": "markdown",
   "metadata": {},
   "source": [
    "## Hartree-Fock"
   ]
  },
  {
   "cell_type": "markdown",
   "metadata": {},
   "source": [
    "### Helium"
   ]
  },
  {
   "cell_type": "code",
   "execution_count": 343,
   "metadata": {},
   "outputs": [],
   "source": [
    "Z = 2\n",
    "hole_states = ['1+', '1-']\n",
    "particle_states = ['2+', '2-', '3+', '3-'] ## separating hole and particle states here is useless but i do it to maintain the previous code structure\n",
    "\n",
    "spOrbitals = hole_states + particle_states\n",
    "\n",
    "Nparticles = Z ## incorect if ion but in our case it is ok\n",
    "\n",
    "integrals = clean_integrals(Z, 'integrals.csv')"
   ]
  },
  {
   "cell_type": "code",
   "execution_count": 344,
   "metadata": {},
   "outputs": [],
   "source": [
    "def set_up_density_matrix(Nparticles, spOrbitals):\n",
    "    n_spOrbitals = len(spOrbitals)\n",
    "    C = np.eye(n_spOrbitals) # HF coefficients\n",
    "    DensityMatrix = np.zeros([n_spOrbitals,n_spOrbitals])\n",
    "    for gamma in range(n_spOrbitals):\n",
    "        for delta in range(n_spOrbitals):\n",
    "            sum = 0.0\n",
    "            for i in range(Nparticles):\n",
    "                sum += C[gamma][i]*C[delta][i]\n",
    "                DensityMatrix[gamma][delta] = Decimal(sum)\n",
    "\n",
    "    return DensityMatrix"
   ]
  },
  {
   "cell_type": "code",
   "execution_count": 345,
   "metadata": {},
   "outputs": [],
   "source": [
    "def hartee_fock(Nparticles, spOrbitals, integrals , maxHFiter= 100, epsilon = 1.0e-10, silent=False):\n",
    "    DensityMatrix = set_up_density_matrix(Nparticles, spOrbitals)\n",
    "    difference = 1.0\n",
    "    hf_count = 0\n",
    "    n_spOrbitals = len(spOrbitals)\n",
    "\n",
    "    oldenergies = np.zeros(n_spOrbitals)\n",
    "    newenergies = np.zeros(n_spOrbitals)\n",
    "\n",
    "    while hf_count < maxHFiter and difference > epsilon:\n",
    "        HFmatrix = np.zeros([n_spOrbitals, n_spOrbitals]) # reset the HF matrix\t\t\n",
    "        for alpha_index, alpha in enumerate(spOrbitals):\n",
    "            for beta_index, beta in enumerate(spOrbitals):\n",
    "                sumFockTerm = 0.0 ##Setting up the Fock matrix\n",
    "                for gamma_index, gamma in enumerate(spOrbitals):\n",
    "                    for delta_index, delta in enumerate(spOrbitals):\n",
    "                        sumFockTerm += DensityMatrix[gamma_index][delta_index]*v_term(alpha, gamma, beta, delta, integrals)\n",
    "                        HFmatrix[alpha_index][beta_index] = Decimal(sumFockTerm)\n",
    "\n",
    "                        if beta_index == alpha_index:   ### Adding the one-body term\n",
    "                            HFmatrix[alpha_index][alpha_index] += h0_term(alpha, beta, Z)\n",
    "        \n",
    "        #print(matrix_parser(HFmatrix, len(HFmatrix[0])))\n",
    "\n",
    "        spenergies, C = np.linalg.eigh(HFmatrix)\n",
    "\n",
    "        DensityMatrix = np.zeros([n_spOrbitals, n_spOrbitals]) ## Setting up new density matrix\n",
    "        for gamma in range(n_spOrbitals):\n",
    "            for delta in range(n_spOrbitals):\n",
    "                sum = 0.0\n",
    "                for i in range(Nparticles):\n",
    "                    sum += C[gamma][i]*C[delta][i]\n",
    "                DensityMatrix[gamma][delta] = Decimal(sum)\n",
    "        newenergies = spenergies\n",
    "        sum =0.0 \n",
    "        for i in range(n_spOrbitals): ## difference between previous and new sp HF energies\n",
    "            sum += (abs(newenergies[i]-oldenergies[i]))/n_spOrbitals\n",
    "        difference = sum\n",
    "        oldenergies = newenergies\n",
    "        hf_count += 1\n",
    "\n",
    "        if not silent:\n",
    "            print(f\"############### Iteration {hf_count} ###############\")\n",
    "            print(\"Single-particle energies\")\n",
    "            for i in range(n_spOrbitals):\n",
    "                print('{0:4d}  {1:.4f}'.format(i, Decimal(oldenergies[i])))\n",
    "        \n",
    "    return DensityMatrix"
   ]
  },
  {
   "cell_type": "code",
   "execution_count": 346,
   "metadata": {},
   "outputs": [],
   "source": [
    "def finding_E(Nparticles, spOrbitals, integrals, maxHFiter= 100):\n",
    "    DensityMatrix = hartee_fock(Nparticles, spOrbitals, integrals, maxHFiter, silent=True)\n",
    "    n_spOrbitals = len(spOrbitals)\n",
    "\n",
    "    E = 0.0\n",
    "    for alpha_index, alpha in enumerate(spOrbitals):\n",
    "        for beta_index, beta in enumerate(spOrbitals):\n",
    "            E += DensityMatrix[alpha_index][beta_index]*h0_term(alpha, beta, Z)\n",
    "            for gamma_index, gamma in enumerate(spOrbitals):\n",
    "                for delta_index, delta in enumerate(spOrbitals):\n",
    "                    E += (1/2)*DensityMatrix[alpha_index][beta_index]*DensityMatrix[gamma_index][delta_index]*v_term(alpha, gamma, beta, delta, integrals)\n",
    "    print(f\"Energy: {E}\")"
   ]
  },
  {
   "cell_type": "code",
   "execution_count": 350,
   "metadata": {},
   "outputs": [
    {
     "name": "stdout",
     "output_type": "stream",
     "text": [
      "############### Iteration 1 ###############\n",
      "Single-particle energies\n",
      "   0  -0.7833\n",
      "   1  -0.7833\n",
      "   2  0.0396\n",
      "   3  0.0396\n",
      "   4  0.4535\n",
      "   5  0.4535\n",
      "############### Iteration 2 ###############\n",
      "Single-particle energies\n",
      "   0  -0.8721\n",
      "   1  -0.8721\n",
      "   2  0.0396\n",
      "   3  0.0396\n",
      "   4  0.4441\n",
      "   5  0.4441\n",
      "############### Iteration 3 ###############\n",
      "Single-particle energies\n",
      "   0  -0.8865\n",
      "   1  -0.8865\n",
      "   2  0.0394\n",
      "   3  0.0394\n",
      "   4  0.4401\n",
      "   5  0.4401\n",
      "############### Iteration 4 ###############\n",
      "Single-particle energies\n",
      "   0  -0.8882\n",
      "   1  -0.8882\n",
      "   2  0.0394\n",
      "   3  0.0394\n",
      "   4  0.4396\n",
      "   5  0.4396\n",
      "############### Iteration 5 ###############\n",
      "Single-particle energies\n",
      "   0  -0.8884\n",
      "   1  -0.8884\n",
      "   2  0.0394\n",
      "   3  0.0394\n",
      "   4  0.4395\n",
      "   5  0.4395\n",
      "############### Iteration 6 ###############\n",
      "Single-particle energies\n",
      "   0  -0.8885\n",
      "   1  -0.8885\n",
      "   2  0.0394\n",
      "   3  0.0394\n",
      "   4  0.4395\n",
      "   5  0.4395\n",
      "############### Iteration 7 ###############\n",
      "Single-particle energies\n",
      "   0  -0.8885\n",
      "   1  -0.8885\n",
      "   2  0.0394\n",
      "   3  0.0394\n",
      "   4  0.4395\n",
      "   5  0.4395\n",
      "############### Iteration 8 ###############\n",
      "Single-particle energies\n",
      "   0  -0.8885\n",
      "   1  -0.8885\n",
      "   2  0.0394\n",
      "   3  0.0394\n",
      "   4  0.4395\n",
      "   5  0.4395\n",
      "############### Iteration 9 ###############\n",
      "Single-particle energies\n",
      "   0  -0.8885\n",
      "   1  -0.8885\n",
      "   2  0.0394\n",
      "   3  0.0394\n",
      "   4  0.4395\n",
      "   5  0.4395\n",
      "############### Iteration 10 ###############\n",
      "Single-particle energies\n",
      "   0  -0.8885\n",
      "   1  -0.8885\n",
      "   2  0.0394\n",
      "   3  0.0394\n",
      "   4  0.4395\n",
      "   5  0.4395\n",
      "############### Iteration 11 ###############\n",
      "Single-particle energies\n",
      "   0  -0.8885\n",
      "   1  -0.8885\n",
      "   2  0.0394\n",
      "   3  0.0394\n",
      "   4  0.4395\n",
      "   5  0.4395\n",
      "############### Iteration 12 ###############\n",
      "Single-particle energies\n",
      "   0  -0.8885\n",
      "   1  -0.8885\n",
      "   2  0.0394\n",
      "   3  0.0394\n",
      "   4  0.4395\n",
      "   5  0.4395\n",
      "############### Iteration 13 ###############\n",
      "Single-particle energies\n",
      "   0  -0.8885\n",
      "   1  -0.8885\n",
      "   2  0.0394\n",
      "   3  0.0394\n",
      "   4  0.4395\n",
      "   5  0.4395\n"
     ]
    },
    {
     "data": {
      "text/plain": [
       "array([[ 9.62549015e-01,  4.27667850e-17, -1.78554612e-01,\n",
       "         4.75783952e-18, -6.45496653e-02,  2.60781705e-18],\n",
       "       [ 4.27667850e-17,  9.62549015e-01, -9.71742503e-17,\n",
       "        -1.78554612e-01,  1.31419080e-16, -6.45496653e-02],\n",
       "       [-1.78554612e-01, -9.71742503e-17,  3.31222090e-02,\n",
       "         1.56717692e-17,  1.19740816e-02,  5.50084673e-18],\n",
       "       [ 4.75783952e-18, -1.78554612e-01,  1.56717692e-17,\n",
       "         3.31222090e-02, -2.52295648e-17,  1.19740816e-02],\n",
       "       [-6.45496653e-02,  1.31419080e-16,  1.19740816e-02,\n",
       "        -2.52295648e-17,  4.32877623e-03, -9.18033163e-18],\n",
       "       [ 2.60781705e-18, -6.45496653e-02,  5.50084673e-18,\n",
       "         1.19740816e-02, -9.18033163e-18,  4.32877623e-03]])"
      ]
     },
     "execution_count": 350,
     "metadata": {},
     "output_type": "execute_result"
    }
   ],
   "source": [
    "hartee_fock(Nparticles, spOrbitals, integrals , maxHFiter= 100, epsilon = 1.0e-10)"
   ]
  },
  {
   "cell_type": "code",
   "execution_count": 351,
   "metadata": {},
   "outputs": [
    {
     "name": "stdout",
     "output_type": "stream",
     "text": [
      "Energy: -2.8310960867850428\n"
     ]
    }
   ],
   "source": [
    "finding_E(Nparticles, spOrbitals, integrals, maxHFiter= 100)"
   ]
  },
  {
   "cell_type": "code",
   "execution_count": 352,
   "metadata": {},
   "outputs": [
    {
     "name": "stdout",
     "output_type": "stream",
     "text": [
      "Energy: -2.8291928003392073\n"
     ]
    }
   ],
   "source": [
    "finding_E(Nparticles, spOrbitals, integrals, maxHFiter= 1)"
   ]
  },
  {
   "cell_type": "markdown",
   "metadata": {},
   "source": [
    "### Beryllium"
   ]
  },
  {
   "cell_type": "code",
   "execution_count": 353,
   "metadata": {},
   "outputs": [],
   "source": [
    "Z = 4\n",
    "hole_states = ['1+', '1-', '2+', '2-',]\n",
    "particle_states = ['3+', '3-']   ## separating hole and particle states here is useless but i do it to maintain the previous code structure\n",
    "\n",
    "spOrbitals = hole_states + particle_states\n",
    "\n",
    "Nparticles = Z ## incorect if ion but in our case it is ok\n",
    "\n",
    "integrals = clean_integrals(Z, 'integrals.csv')"
   ]
  },
  {
   "cell_type": "code",
   "execution_count": 354,
   "metadata": {},
   "outputs": [
    {
     "name": "stdout",
     "output_type": "stream",
     "text": [
      "############### Iteration 1 ###############\n",
      "Single-particle energies\n",
      "   0  -3.9507\n",
      "   1  -3.9507\n",
      "   2  -0.1040\n",
      "   3  -0.1040\n",
      "   4  0.8657\n",
      "   5  0.8657\n",
      "############### Iteration 2 ###############\n",
      "Single-particle energies\n",
      "   0  -4.6291\n",
      "   1  -4.6291\n",
      "   2  -0.2958\n",
      "   3  -0.2958\n",
      "   4  0.8254\n",
      "   5  0.8254\n",
      "############### Iteration 3 ###############\n",
      "Single-particle energies\n",
      "   0  -4.6778\n",
      "   1  -4.6778\n",
      "   2  -0.3039\n",
      "   3  -0.3039\n",
      "   4  0.8136\n",
      "   5  0.8136\n",
      "############### Iteration 4 ###############\n",
      "Single-particle energies\n",
      "   0  -4.6854\n",
      "   1  -4.6854\n",
      "   2  -0.3050\n",
      "   3  -0.3050\n",
      "   4  0.8115\n",
      "   5  0.8115\n",
      "############### Iteration 5 ###############\n",
      "Single-particle energies\n",
      "   0  -4.6867\n",
      "   1  -4.6867\n",
      "   2  -0.3052\n",
      "   3  -0.3052\n",
      "   4  0.8112\n",
      "   5  0.8112\n",
      "############### Iteration 6 ###############\n",
      "Single-particle energies\n",
      "   0  -4.6869\n",
      "   1  -4.6869\n",
      "   2  -0.3053\n",
      "   3  -0.3053\n",
      "   4  0.8111\n",
      "   5  0.8111\n",
      "############### Iteration 7 ###############\n",
      "Single-particle energies\n",
      "   0  -4.6870\n",
      "   1  -4.6870\n",
      "   2  -0.3053\n",
      "   3  -0.3053\n",
      "   4  0.8111\n",
      "   5  0.8111\n",
      "############### Iteration 8 ###############\n",
      "Single-particle energies\n",
      "   0  -4.6870\n",
      "   1  -4.6870\n",
      "   2  -0.3053\n",
      "   3  -0.3053\n",
      "   4  0.8111\n",
      "   5  0.8111\n",
      "############### Iteration 9 ###############\n",
      "Single-particle energies\n",
      "   0  -4.6870\n",
      "   1  -4.6870\n",
      "   2  -0.3053\n",
      "   3  -0.3053\n",
      "   4  0.8111\n",
      "   5  0.8111\n",
      "############### Iteration 10 ###############\n",
      "Single-particle energies\n",
      "   0  -4.6870\n",
      "   1  -4.6870\n",
      "   2  -0.3053\n",
      "   3  -0.3053\n",
      "   4  0.8111\n",
      "   5  0.8111\n",
      "############### Iteration 11 ###############\n",
      "Single-particle energies\n",
      "   0  -4.6870\n",
      "   1  -4.6870\n",
      "   2  -0.3053\n",
      "   3  -0.3053\n",
      "   4  0.8111\n",
      "   5  0.8111\n",
      "############### Iteration 12 ###############\n",
      "Single-particle energies\n",
      "   0  -4.6870\n",
      "   1  -4.6870\n",
      "   2  -0.3053\n",
      "   3  -0.3053\n",
      "   4  0.8111\n",
      "   5  0.8111\n",
      "############### Iteration 13 ###############\n",
      "Single-particle energies\n",
      "   0  -4.6870\n",
      "   1  -4.6870\n",
      "   2  -0.3053\n",
      "   3  -0.3053\n",
      "   4  0.8111\n",
      "   5  0.8111\n",
      "############### Iteration 14 ###############\n",
      "Single-particle energies\n",
      "   0  -4.6870\n",
      "   1  -4.6870\n",
      "   2  -0.3053\n",
      "   3  -0.3053\n",
      "   4  0.8111\n",
      "   5  0.8111\n"
     ]
    },
    {
     "data": {
      "text/plain": [
       "array([[ 9.94592373e-01,  3.10755213e-18, -4.65659878e-02,\n",
       "         4.80098275e-18, -5.66568043e-02,  1.52804744e-18],\n",
       "       [ 3.10755213e-18,  9.94592373e-01, -9.29466194e-17,\n",
       "        -4.65659878e-02, -2.79283703e-17, -5.66568043e-02],\n",
       "       [-4.65659878e-02, -9.29466194e-17,  5.99012437e-01,\n",
       "         2.82976767e-17, -4.87881283e-01, -1.03541307e-17],\n",
       "       [ 4.80098275e-18, -4.65659878e-02,  2.82976767e-17,\n",
       "         5.99012437e-01,  1.92987987e-17, -4.87881283e-01],\n",
       "       [-5.66568043e-02, -2.79283703e-17, -4.87881283e-01,\n",
       "         1.92987987e-17,  4.06395190e-01, -1.70761842e-17],\n",
       "       [ 1.52804744e-18, -5.66568043e-02, -1.03541307e-17,\n",
       "        -4.87881283e-01, -1.70761842e-17,  4.06395190e-01]])"
      ]
     },
     "execution_count": 354,
     "metadata": {},
     "output_type": "execute_result"
    }
   ],
   "source": [
    "hartee_fock(Nparticles, spOrbitals, integrals ,maxHFiter= 100, epsilon = 1.0e-10)"
   ]
  },
  {
   "cell_type": "code",
   "execution_count": 355,
   "metadata": {},
   "outputs": [
    {
     "name": "stdout",
     "output_type": "stream",
     "text": [
      "Energy: -14.508252442377183\n"
     ]
    }
   ],
   "source": [
    "finding_E(Nparticles, spOrbitals, integrals, maxHFiter= 100)"
   ]
  },
  {
   "cell_type": "code",
   "execution_count": 356,
   "metadata": {},
   "outputs": [
    {
     "name": "stdout",
     "output_type": "stream",
     "text": [
      "Energy: -14.499822866520386\n"
     ]
    }
   ],
   "source": [
    "finding_E(Nparticles, spOrbitals, integrals, maxHFiter= 1)"
   ]
  }
 ],
 "metadata": {
  "kernelspec": {
   "display_name": "Python 3.10.6 64-bit",
   "language": "python",
   "name": "python3"
  },
  "language_info": {
   "codemirror_mode": {
    "name": "ipython",
    "version": 3
   },
   "file_extension": ".py",
   "mimetype": "text/x-python",
   "name": "python",
   "nbconvert_exporter": "python",
   "pygments_lexer": "ipython3",
   "version": "3.10.6"
  },
  "orig_nbformat": 4,
  "vscode": {
   "interpreter": {
    "hash": "b0fa6594d8f4cbf19f97940f81e996739fb7646882a419484c72d19e05852a7e"
   }
  }
 },
 "nbformat": 4,
 "nbformat_minor": 2
}
